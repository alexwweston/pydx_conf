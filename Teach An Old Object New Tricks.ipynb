{
 "cells": [
  {
   "cell_type": "markdown",
   "metadata": {},
   "source": [
    "# Teach a New Object Old Tricks\n",
    "## Adapted from  Kenneth Love's 2015 PyDX talk\n",
    "\n",
    "\n",
    "[Original Repo](https://github.com/kennethlove/pydx_conf)\n",
    "[Our Forked repo--see FNL branch](https://github.com/alexwweston/pydx_conf)"
   ]
  },
  {
   "cell_type": "markdown",
   "metadata": {},
   "source": [
    "## What does OO mean?\n",
    "### Design pattern\n",
    "\n",
    "Object-oriented programming, or OO, or OOP, is a way to program.\n",
    "It's a design pattern, which is a fancy jargon way of saying that it's a common,\n",
    "repeatable way to organize your code and approach problems. Programming is\n",
    "really just problem solving so OO is a way to solve problems in the greater\n",
    "scheme of programming. It's not *the* way, it's not even *the best* way, but\n",
    "it's a way and, for most people and most problems, it's a really *good* way.\n",
    "\n",
    "### Especially handy for real-world concepts\n",
    "\n",
    "This is especially true when we're dealing with real-world concepts. Taking a\n",
    "bunch of data and filtering it down, like finding all of the men's shoes that\n",
    "are between `$15` and `$65` isn't really a \"real world\" thing. It's just some work\n",
    "to do. Probably not a good thing to solve with OO.\n",
    "\n",
    "*But*, talking about a shoe, or a store, or a transaction, any of these things\n",
    "are definitely handled well by object-oriented programming. You can make a store\n",
    "object or a shoe object and then do *stuff* with it. Anything you can think of\n",
    "as \"I want to do stuff to this thing\" is usually a good candidate for OO.\n",
    "\n",
    "### Everything in Python is an object already\n",
    "\n",
    "And, in the world of Python, everything is an object. Every variable you make,\n",
    "every function, every...everything. Everything is an object so, once you get\n",
    "used to objects and OO, Python starts to make a bit more sense and be a bit more\n",
    "predictable.\n",
    "\n",
    "## What is an object?\n",
    "\n",
    "### Objects are generally nouns\n",
    "\n",
    "So what is an object? Object is a programming construct that has attributes and\n",
    "methods. Hold onto those words, we'll come back to them. Objects are *usually*\n",
    "nouns. They're *things*. Like I said before, a shoe, a store, a transaction.\n",
    "*Things*. Nouns.\n",
    "\n",
    "You can definitely have objects that represent verbs or adjectives but those are\n",
    "usually a little trickier to keep in your mental map. They don't fit as nicely\n",
    "with my next few analogies, either.\n",
    "\n",
    "### Objects have attributes\n",
    "\n",
    "OK, let's go back. I said that objects have attributes. How many of you know\n",
    "what I mean if I say \"namespace\"?\n",
    "\n",
    "A namespace is a group of names. Like, in your family, you have names that mean\n",
    "a particular person. Maybe it's \"mom\" or \"dad\" or \"Jake\" or something. In that\n",
    "space, your family, the name \"Anne\" means a particular person. In your work or\n",
    "school namespace, though, \"Anne\" might be a completely different person.\n",
    "\n",
    "In Python, it's pretty much the same thing. In one file, the variable `age`\n",
    "might be 35 and in another one it might be 27. Even inside of that file, the\n",
    "`age` variable in the outermost scope, or the global scope, might be one value\n",
    "but inside of a function, it could be a different one. The function has its own\n",
    "namespace.\n",
    "\n",
    "Objects have their own namespace, too. Any variables that are just floating\n",
    "around in this namespace are called \"attributes\". Attributes are like, well, the\n",
    "attributes of your object. So if we go back to a shoe, the attributes would be\n",
    "the color, the size, the brand, the model, the lace color and length, and so on.\n",
    "These are kind of the adjectives that describe your object.\n",
    "\n",
    "## Class vs. an Instance vs. an Object?\n",
    "\n",
    "A class is the \"blueprint\" for an object. You \"instantiate\" many \"instance objects\" (\"instances\" for short) of the class, but there is only one class. Most people use instance and object interchangeably. There is a technical difference between an object and an instance (look [here](http://stackoverflow.com/a/14802302) if you're interested).\n",
    "\n",
    "Example: this is the Shoe class:"
   ]
  },
  {
   "cell_type": "code",
   "execution_count": 34,
   "metadata": {
    "collapsed": false
   },
   "outputs": [],
   "source": [
    "class Shoe:\n",
    "    size = 9.5\n",
    "    color = \"red\"\n"
   ]
  },
  {
   "cell_type": "markdown",
   "metadata": {},
   "source": [
    "Here are two Shoe instances:"
   ]
  },
  {
   "cell_type": "code",
   "execution_count": 77,
   "metadata": {
    "collapsed": false
   },
   "outputs": [
    {
     "name": "stdout",
     "output_type": "stream",
     "text": [
      "<__main__.Shoe object at 0x10653e898>\n",
      "<__main__.Shoe object at 0x10653ef98>\n"
     ]
    }
   ],
   "source": [
    "Erics_shoes = Shoe()\n",
    "Alexs_shoes = Shoe()\n",
    "\n",
    "#take a look!\n",
    "print(Erics_shoes)\n",
    "print(Alexs_shoes)\n"
   ]
  },
  {
   "cell_type": "code",
   "execution_count": 30,
   "metadata": {
    "collapsed": false
   },
   "outputs": [
    {
     "name": "stdout",
     "output_type": "stream",
     "text": [
      "<class '__main__.Shoe'>\n"
     ]
    }
   ],
   "source": [
    "#now inspect the Shoe class...\n",
    "print(Shoe)"
   ]
  },
  {
   "cell_type": "markdown",
   "metadata": {},
   "source": [
    "### Class attributes vs instance attributes\n",
    "\n",
    "But...here's a weird thing. Let's make another Shoe instance."
   ]
  },
  {
   "cell_type": "code",
   "execution_count": 37,
   "metadata": {
    "collapsed": false
   },
   "outputs": [
    {
     "name": "stdout",
     "output_type": "stream",
     "text": [
      "red\n"
     ]
    }
   ],
   "source": [
    "your_shoes = Shoe()\n",
    "\n",
    "# If we check the color, they should be red (that's the default).\n",
    "\n",
    "print(your_shoes.color)\n"
   ]
  },
  {
   "cell_type": "markdown",
   "metadata": {},
   "source": [
    "Cool. Exactly what we expected. Maybe I want Shoe to have a black shoe by\n",
    "default though. At least, in this process. I'm not going to change the class\n",
    "definition (code that starts with `class`), I'm just going to change the\n",
    "class."
   ]
  },
  {
   "cell_type": "code",
   "execution_count": 38,
   "metadata": {
    "collapsed": false
   },
   "outputs": [
    {
     "data": {
      "text/plain": [
       "'black'"
      ]
     },
     "execution_count": 38,
     "metadata": {},
     "output_type": "execute_result"
    }
   ],
   "source": [
    "Shoe.color = \"black\"\n",
    "\n",
    "# Let's check the your shoes are still red.\n",
    "\n",
    "your_shoes.color"
   ]
  },
  {
   "cell_type": "markdown",
   "metadata": {},
   "source": [
    "What?! Oh, right. We never *explicitly* set the color of your shoes. So, when an\n",
    "instance hasn't had a value set explicitly, and you ask for it, Python just goes\n",
    "back to the class to find out what it should be. That's easier than putting\n",
    "every value on every instance of the class. But, in this case, we changed the\n",
    "class later and got a value we didn't expect. Something good to keep in mind and\n",
    "something we can, and will, fix later."
   ]
  },
  {
   "cell_type": "markdown",
   "metadata": {},
   "source": [
    "# Methods\n",
    "\n",
    "In a class' namespace, you can have functions. We call these functions\n",
    "\"methods\", though, so that we can distinguish them from functions that are just\n",
    "hanging out in some module or namespace.\n",
    "\n",
    "Methods always, until I tell you different in a few minutes, affect the instance\n",
    "that you're currently working with. Oh, hey, this is a good time for some code."
   ]
  },
  {
   "cell_type": "code",
   "execution_count": 43,
   "metadata": {
    "collapsed": false
   },
   "outputs": [],
   "source": [
    "class Shoe:\n",
    "    size = 9.5\n",
    "    color = \"red\"\n",
    "\n",
    "    def put_on(self):\n",
    "        print(\"You put on your {} shoes.\".format(self.color))"
   ]
  },
  {
   "cell_type": "markdown",
   "metadata": {},
   "source": [
    "\n",
    "So we have a class, Shoe, and it has two attributes and one method. This is one\n",
    "of those places, Python 2 users, that you'll need to do something extra. You'll\n",
    "need to add `(object)` after your class name and before the colon. In Python 2,\n",
    "we still had these weird Python 1 classes hanging around and you have to\n",
    "explicitly tell Python to use \"new style\" classes by extending `object`. Oops,\n",
    "there's another word we won't get to for a bit: extending. Sorry, file that one\n",
    "away again.\n",
    "\n",
    "### self\n",
    "\n",
    "What's this first argument to `put_on`, though? This `self` thing? Most of the\n",
    "time, when we use a class, we make an instance of it. Instances are kind of like\n",
    "copies of a class. When you use the `list()` function, or the list literal `[]`,\n",
    "you're creating an instance of the list class. So to make an instance of our\n",
    "class, we call it like it's a function."
   ]
  },
  {
   "cell_type": "code",
   "execution_count": 45,
   "metadata": {
    "collapsed": false
   },
   "outputs": [
    {
     "name": "stdout",
     "output_type": "stream",
     "text": [
      "You put on your red shoes.\n",
      "You put on your blue shoes.\n"
     ]
    }
   ],
   "source": [
    "my_shoes = Shoe()\n",
    "\n",
    "# And now I have access to its attributes.\n",
    "\n",
    "my_shoes.color\n",
    "\"red\"\n",
    "my_shoes.size\n",
    "9.5\n",
    "\n",
    "# And I have access to its methods.\n",
    "\n",
    "my_shoes.put_on()\n",
    "\n",
    "# Each instance can have its own attributes, too.\n",
    "# Let's change the color of my shoes.\n",
    "\n",
    "my_shoes.color = \"blue\"\n",
    "\n",
    "# And then use the method again.\n",
    "\n",
    "my_shoes.put_on()\n",
    "\n",
    "# Awesome! New shoe color. I wish it was actually that easy."
   ]
  },
  {
   "cell_type": "markdown",
   "metadata": {},
   "source": [
    "# Built-In decorators for python methods\n",
    "\n",
    "## Brief introduction to decorators\n",
    "\n",
    "In Python, we have these things called \"decorators\". They're bits of code,\n",
    "usually functions, that can take another bit of code and apply some behavior to\n",
    "it. Maybe you want to be able to mark a function as only being callable by\n",
    "someone with the proper credentials, an admin or something. You could write a\n",
    "decorator that checks that person's credentials before it lets the function run.\n",
    "You'd do this as decorator instead of just some code you write paste into the\n",
    "function because, chances are, you want to do this to a lot of functions. \n",
    "\n",
    "Check out [this tutorial](https://realpython.com/blog/python/primer-on-python-decorators/) for an introduction that's a bit more complete.\n",
    "\n",
    "Remember how we said everything in Python is an object? So are functions!\n"
   ]
  },
  {
   "cell_type": "markdown",
   "metadata": {},
   "source": [
    "![Mind Blown](http://1.media.dorkly.cvcdn.com/50/27/0d41808f60af8871fa122b3b0f37ab1b.gif)"
   ]
  },
  {
   "cell_type": "markdown",
   "metadata": {},
   "source": [
    "This means you can do a lot of cool stuff with functions. Like pass them around to other functions! Python decorators take advantage of this. You don't actually need to know how decorators work to use the built-in OO decorators, but if we have time:"
   ]
  },
  {
   "cell_type": "code",
   "execution_count": 74,
   "metadata": {
    "collapsed": false
   },
   "outputs": [
    {
     "name": "stdout",
     "output_type": "stream",
     "text": [
      "49995000\n"
     ]
    }
   ],
   "source": [
    "#timer is a decorator that times a function\n",
    "import time\n",
    "\n",
    "def timer(some_function):\n",
    "    def wrapper ():\n",
    "        t1 = time.time()\n",
    "        result = some_function()\n",
    "        t2 = time.time()\n",
    "        print(\"Time it took to run the function: \" + str((t2-t1)))\n",
    "        return result\n",
    "        \n",
    "    return wrapper\n",
    "\n",
    "def large_sum():\n",
    "    num_list = []\n",
    "    for x in (range(0,10000)):\n",
    "        num_list.append(x)\n",
    "    return (sum(num_list))\n",
    "\n",
    "#large_sum's output on its own\n",
    "print(large_sum())"
   ]
  },
  {
   "cell_type": "code",
   "execution_count": null,
   "metadata": {
    "collapsed": false
   },
   "outputs": [],
   "source": [
    "#using our timer function to measure large_sum\n",
    "large_sum = timer(large_sum)\n",
    "\n",
    "print(large_sum())"
   ]
  },
  {
   "cell_type": "markdown",
   "metadata": {},
   "source": [
    "This is powerful in and of itself, but it still relies on the \"user\" of your module/service/object/what have you to explicitly call the decorator. Python provides syntax to allow decorators to be always applied to a function, called  \"pie\" syntax:"
   ]
  },
  {
   "cell_type": "code",
   "execution_count": null,
   "metadata": {
    "collapsed": false
   },
   "outputs": [],
   "source": [
    "@timer #pie syntax\n",
    "def large_sum():\n",
    "    num_list = []\n",
    "    for x in (range(0,10000)):\n",
    "        num_list.append(x)\n",
    "    return (sum(num_list))\n",
    "\n",
    "print(large_sum())"
   ]
  },
  {
   "cell_type": "markdown",
   "metadata": {},
   "source": [
    "## Challenge: Add a new method to the `Shoe` class\n",
    "\n",
    "Add a method to the `Shoe` class that lets someone take off their shoes. Mention the shoe size in the method."
   ]
  },
  {
   "cell_type": "markdown",
   "metadata": {},
   "source": [
    "\n",
    "## classmethod\n",
    "\n",
    "So, every method in a class runs on an instance of the class, right? Well, not\n",
    "exactly. I mean, by default, yes. But we can make methods that don't need an\n",
    "instance to run and just work on their own class. Usually we use these to make\n",
    "special methods for creating new instances of a class.\n",
    "\n",
    "Let's make one so that we can just describe our shoes to create our new instance\n",
    "with the size and color that we want."
   ]
  },
  {
   "cell_type": "code",
   "execution_count": null,
   "metadata": {
    "collapsed": true
   },
   "outputs": [],
   "source": [
    "class Shoe:\n",
    "    size = 9.5\n",
    "    color = \"red\"\n",
    "\n",
    "    def put_on(self):\n",
    "        print(\"You put on your {} shoes.\".format(self.color))\n",
    "        \n",
    "    @classmethod\n",
    "    def create(cls, description):\n",
    "        shoe = cls()\n",
    "        size, color = description.split()\n",
    "        shoe.size = float(size)\n",
    "        shoe.color = color\n",
    "        return shoe"
   ]
  },
  {
   "cell_type": "markdown",
   "metadata": {},
   "source": [
    "The `@classmethod` decorator tells Python that this method should get the class\n",
    "instead of an instance of the class. And, our first argument, is `cls` which\n",
    "we'll just know means \"the class\". You could use any other variable you wanted,\n",
    "of course, but you probably want to avoid \"self\" and you can't use \"class\".\n",
    "\n",
    "So, then, inside, we use the class that's provided to the method to make a new\n",
    "instance of it. Then we split the description on the space and assign the values\n",
    "back to the instance that we made.\n",
    "\n",
    "Let's see if it works."
   ]
  },
  {
   "cell_type": "code",
   "execution_count": null,
   "metadata": {
    "collapsed": false
   },
   "outputs": [],
   "source": [
    "new_shoes = Shoe.create(\"10.5 orange\")\n",
    "print(new_shoes.size)\n",
    "new_shoes.put_on()"
   ]
  },
  {
   "cell_type": "markdown",
   "metadata": {},
   "source": [
    "## staticmethod\n",
    "\n",
    "The other special type of method that we should learn about is the static\n",
    "method. A static method doesn't care about an instance or a class. It's just a\n",
    "method that belongs to a class because it makes sense for that method to belong\n",
    "to that class. I don't find myself, personally, using these a lot, but they are\n",
    "handy in certain cases.\n",
    "\n",
    "Let's make a static method that'll take a list of shoe descriptions and gives us\n",
    "back all of the shoes."
   ]
  },
  {
   "cell_type": "code",
   "execution_count": null,
   "metadata": {
    "collapsed": false
   },
   "outputs": [],
   "source": [
    "class Shoe:\n",
    "    size = 9.5\n",
    "    color = \"red\"\n",
    "\n",
    "    def put_on(self):\n",
    "        print(\"You put on your {} shoes.\".format(self.color))\n",
    "        \n",
    "    @classmethod\n",
    "    def create(cls, description):\n",
    "        shoe = cls()\n",
    "        size, color = description.split()\n",
    "        shoe.size = float(size)\n",
    "        shoe.color = color\n",
    "        return shoe\n",
    "\n",
    "    @staticmethod\n",
    "    def shoe_rack(shoes):\n",
    "        for shoe in shoes:\n",
    "            yield Shoe.create(shoe)\n",
    "\n",
    "closet = Shoe.shoe_rack([\"10.5 green\", \"8 brown\", \"13 yellow\"])\n",
    "for shoe in closet:\n",
    "    shoe.put_on()"
   ]
  },
  {
   "cell_type": "markdown",
   "metadata": {},
   "source": [
    "So this method just takes a single argument. It could very well be a function\n",
    "that we just include in the module. It makes *sense*, though, to keep it with\n",
    "the class. "
   ]
  },
  {
   "cell_type": "markdown",
   "metadata": {},
   "source": [
    "# Inheritance\n",
    "\n",
    "OK, so we've seen a lot about creating brand new classes, but what about if we\n",
    "don't want to make all of our class functionality ourselves? What if we want, I\n",
    "dunno, a class that behaves like a string but has some special new thing. This\n",
    "is where inheritance comes in.\n",
    "\n",
    "It's like your genes, your DNA. One or more classes go in, and a new class comes\n",
    "out. OK, so, it's kinda hard for you to only have one set of genes, but bear\n",
    "with me. Let's not jump to making new lists or anything just yet. Let's start\n",
    "with a new base class."
   ]
  },
  {
   "cell_type": "code",
   "execution_count": 65,
   "metadata": {
    "collapsed": true
   },
   "outputs": [],
   "source": [
    "class Monster:\n",
    "    sound = \"Rarrr!\"\n",
    "\n",
    "    def attack(self):\n",
    "        print(\"The monster cries '{}' and attacks!\".format(self.sound))\n",
    "\n",
    "    def give_up(self):\n",
    "        print(\"The monster throws down its weapons and runs away!\")\n",
    "        \n",
    "class Troll(Monster):\n",
    "    sound = \"Well, actually...\"\n",
    "    bridge = False\n",
    "\n"
   ]
  },
  {
   "cell_type": "code",
   "execution_count": 53,
   "metadata": {
    "collapsed": false
   },
   "outputs": [
    {
     "name": "stdout",
     "output_type": "stream",
     "text": [
      "False\n"
     ]
    }
   ],
   "source": [
    "\n",
    "monster = Monster()\n",
    "troll = Troll()\n",
    "\n",
    "print(troll.bridge)\n",
    "#print(monster.bridge)"
   ]
  },
  {
   "cell_type": "markdown",
   "metadata": {},
   "source": [
    "We get the `AttributeError` because our `Monster` class doesn't automatically get the attributes of its child classes."
   ]
  },
  {
   "cell_type": "markdown",
   "metadata": {},
   "source": [
    "## function overriding"
   ]
  },
  {
   "cell_type": "markdown",
   "metadata": {},
   "source": [
    "Let's change the way the Troll gives up, but leave the Monster retreat alone. Child classes can change the behavior of an anscestor function by redefining those functions. This is called \"function overriding\""
   ]
  },
  {
   "cell_type": "code",
   "execution_count": null,
   "metadata": {
    "collapsed": true
   },
   "outputs": [],
   "source": []
  },
  {
   "cell_type": "code",
   "execution_count": 68,
   "metadata": {
    "collapsed": true
   },
   "outputs": [],
   "source": [
    "class Troll(Monster):\n",
    "    sound = \"Well, actually...\"\n",
    "    bridge = False\n",
    "    \n",
    "    def give_up(self):\n",
    "        print(\"The troll yells 'Never!' and calls in Twitter reinforcements!\")"
   ]
  },
  {
   "cell_type": "code",
   "execution_count": 72,
   "metadata": {
    "collapsed": false
   },
   "outputs": [
    {
     "name": "stdout",
     "output_type": "stream",
     "text": [
      "The monster cries 'Well, actually...' and attacks!\n",
      "The troll yells 'Never!' and calls in Twitter reinforcements!\n",
      "The monster throws down its weapons and runs away!\n"
     ]
    }
   ],
   "source": [
    "troll = Troll()\n",
    "troll.attack()\n",
    "troll.give_up()\n",
    "#monster = Monster()\n",
    "#monster.give_up()"
   ]
  },
  {
   "cell_type": "markdown",
   "metadata": {},
   "source": [
    "We don't get the monster version, we get the troll version. We can't even easily\n",
    "get to the monster version from a troll instance."
   ]
  },
  {
   "cell_type": "markdown",
   "metadata": {},
   "source": [
    "### super()\n",
    "OK, so what about something where the parent class has it and the child class\n",
    "wants to use it but wants to use it a little differently? I'm pretty sure trolls\n",
    "don't attack exactly like just plain old monsters do."
   ]
  },
  {
   "cell_type": "code",
   "execution_count": 57,
   "metadata": {
    "collapsed": false
   },
   "outputs": [
    {
     "name": "stdout",
     "output_type": "stream",
     "text": [
      "The troll says something mean about you.\n",
      "The monster cries 'Well, actually...' and attacks!\n"
     ]
    }
   ],
   "source": [
    "class Troll(Monster):\n",
    "    sound = \"Well, actually...\"\n",
    "    bridge = False\n",
    "    \n",
    "    def give_up(self):\n",
    "        print(\"The troll yells 'Never!' and calls in Twitter reinforcements!\")\n",
    "\n",
    "    def attack(self):\n",
    "        print(\"The troll says something mean about you.\")\n",
    "        super().attack()\n",
    "        \n",
    "Troll().attack()"
   ]
  },
  {
   "cell_type": "markdown",
   "metadata": {},
   "source": [
    "Now, if we make our troll attack, we'll get a different message *before* we get\n",
    "the regular message. The `super()` there tells Python to go look at the parent\n",
    "class and use its version of the method. Handy when you need to just change some\n",
    "little part and not the entire thing.\n",
    "\n",
    "If you're using Python 2, you'll need to do your `super()` a little differently.\n",
    "It'll need to be `super(Troll, self).attack()`. In Python2, we have to specify\n",
    "the class name and then either an instance of the class or a type that's a\n",
    "subclass of the class you gave. Python 3's version is a lot simpler."
   ]
  },
  {
   "cell_type": "markdown",
   "metadata": {},
   "source": [
    "## Magic methods\n",
    "\n",
    "In the title, I said \"teach a new object old tricks\". What I meant by that was,\n",
    "originally, just making your objects extend and/or act like built in objects.\n",
    "But then I decided I should do it all from the ground up so, yay, finally to the\n",
    "bit I originally had planned!\n",
    "\n",
    "Python objects have a bunch of methods known as \"magic methods\". They're magic\n",
    "because you, the average, every day progammer, never really call them but they\n",
    "get used all the time. They get used when you make a new object or when you ask\n",
    "for a member by index or all sorts of other things. All of the magic methods\n",
    "look the same; they all start and end with two underscores. If you have a really\n",
    "good imagination, it *kind of* looks like a magician's top hat.\n",
    "\n",
    "Let's start with the one you'll most commonly overwrite, `__init__`.\n",
    "\n",
    "### `__init__`\n",
    "\n",
    "`__init__` is run whenever a new instance of a class has been created. There's\n",
    "actually another method, `__new__`, that's run *before* `__init__`, but you won't modify it\n",
    "nearly as often.\n",
    "\n",
    "Remember how we had the problem of our shoes not having a solid size or color\n",
    "until we set them on the instance itself? Let's fix that."
   ]
  },
  {
   "cell_type": "code",
   "execution_count": null,
   "metadata": {
    "collapsed": true
   },
   "outputs": [],
   "source": [
    "class Shoe:\n",
    "    size = 9.5\n",
    "    color = 'red'\n",
    "\n",
    "    def __init__(self, size=9.5, color='red'):\n",
    "        self.size = size\n",
    "        self.color = color"
   ]
  },
  {
   "cell_type": "markdown",
   "metadata": {},
   "source": [
    "`__init__` doesn't need to ever return anything. In fact, if you do return something\n",
    "other than `None`, you'll get a `TypeError`. \n",
    "\n",
    "Now let's check our shoe stuff again."
   ]
  },
  {
   "cell_type": "code",
   "execution_count": null,
   "metadata": {
    "collapsed": false
   },
   "outputs": [],
   "source": [
    "my_shoes = Shoe()\n",
    "Shoe.color = 'blue'\n",
    "print(my_shoes.color)"
   ]
  },
  {
   "cell_type": "markdown",
   "metadata": {},
   "source": [
    "Ha ha, take that, Python!\n",
    "\n",
    "`__init__` is your best entry point when you need to customize the creation of an\n",
    "instance. Whether you want to set attributes or start other processes or\n",
    "whatever, this is the place to start."
   ]
  },
  {
   "cell_type": "markdown",
   "metadata": {},
   "source": [
    "## Challenge: Add `__init__` to `Monster`, `Troll`, and your custom class\n",
    "\n",
    "### `__init__` should set all of their instance variables."
   ]
  },
  {
   "cell_type": "markdown",
   "metadata": {},
   "source": [
    "### `__str__`\n",
    "\n",
    "Another really common magic method is str. Str controls how your instance\n",
    "becomes a string. In Python 2, by the way, you have to be a bit more careful of\n",
    "this because strings can't hold unicode characters. You'll probably want a magic\n",
    "unicode method, too. One more headache solved by Python 3."
   ]
  },
  {
   "cell_type": "code",
   "execution_count": null,
   "metadata": {
    "collapsed": false
   },
   "outputs": [],
   "source": [
    "class Shoe:\n",
    "    size = 9.5\n",
    "    color = 'red'\n",
    "\n",
    "    def __init__(self, size=9.5, color='red'):\n",
    "        self.size = size\n",
    "        self.color = color\n",
    "\n",
    "    def __str__(self):\n",
    "        return '{}, size {}'.format(self.color, self.size)\n",
    "    \n",
    "    def __repr__(self):\n",
    "        return \"I am a size {}, {} shoe!\".format(self.size, self.color)\n",
    "\n",
    "my_shoes = Shoe()\n",
    "print(str(my_shoes))"
   ]
  },
  {
   "cell_type": "markdown",
   "metadata": {},
   "source": [
    "Now we have to do that `str()` conversion. If we just print it, we'll get the\n",
    "representation of the object which usually includes its memory address and stuff\n",
    "like that."
   ]
  },
  {
   "cell_type": "code",
   "execution_count": null,
   "metadata": {
    "collapsed": false
   },
   "outputs": [],
   "source": [
    "my_shoes"
   ]
  },
  {
   "cell_type": "markdown",
   "metadata": {},
   "source": [
    "That's controlled by another method, `__repr__`, but I'll leave that one for you\n",
    "to explore. You can also control how objects become ints, floats, and booleans\n",
    "but the ideas there are pretty much the same as for `__str__`, so, again, I'll\n",
    "leave them for you."
   ]
  },
  {
   "cell_type": "markdown",
   "metadata": {},
   "source": [
    "## Challenge: Add `__str__` to all of your `Monster` classes\n",
    "\n",
    "Return the type of monster. If you want, include a color or size."
   ]
  },
  {
   "cell_type": "markdown",
   "metadata": {},
   "source": [
    "### `__add__` and `__radd__`\n",
    "\n",
    "So maybe your object already is a number or knows how to become a number. Let's,\n",
    "uh, let's set up a new class, `Song`."
   ]
  },
  {
   "cell_type": "code",
   "execution_count": null,
   "metadata": {
    "collapsed": true
   },
   "outputs": [],
   "source": [
    "class Song:\n",
    "    title = None\n",
    "    artist = None\n",
    "    total_seconds = 0\n",
    "\n",
    "    def __init__(self, title=None, artist=None, time='00:00:00'):\n",
    "        self.title = title\n",
    "        self.artist = artist\n",
    "        self.time = time\n",
    "        self.total_seconds = self.__set_total_seconds(time)"
   ]
  },
  {
   "cell_type": "markdown",
   "metadata": {},
   "source": [
    "Now this double underscore before `set_total_seconds` makes it so we can *only*\n",
    "call this method from within this class, a subclass, or an instance. This is\n",
    "pretty much the only way to protect a method in Python."
   ]
  },
  {
   "cell_type": "code",
   "execution_count": null,
   "metadata": {
    "collapsed": true
   },
   "outputs": [],
   "source": [
    "class Song:\n",
    "    title = None\n",
    "    artist = None\n",
    "    total_seconds = 0\n",
    "\n",
    "    def __init__(self, title=None, artist=None, time='00:00:00'):\n",
    "        self.title = title\n",
    "        self.artist = artist\n",
    "        self.time = time\n",
    "        self.total_seconds = self.__set_total_seconds(time)\n",
    "\n",
    "    def __set_total_seconds(self, time):\n",
    "        if time.count(':') != 2:\n",
    "            raise ValueError(\n",
    "                \"'time' argument should only be hours:minutes:seconds.\"\n",
    "            )\n",
    "        seconds, minutes, hours = map(int, time.split(':')[::-1])\n",
    "        seconds += minutes * 60\n",
    "        seconds += hours * 3600\n",
    "        return seconds"
   ]
  },
  {
   "cell_type": "markdown",
   "metadata": {},
   "source": [
    "OK, so, we make sure the time argument is in the right format, then we break it\n",
    "apart on the colons, reverse the list, and turn each bit into an int. Then, to\n",
    "figure out the total number of seconds, we do some math on each bit.\n",
    "\n",
    "Now let's add a method to turn a song into an int."
   ]
  },
  {
   "cell_type": "code",
   "execution_count": null,
   "metadata": {
    "collapsed": true
   },
   "outputs": [],
   "source": [
    "class Song:\n",
    "    title = None\n",
    "    artist = None\n",
    "    total_seconds = 0\n",
    "\n",
    "    def __init__(self, title=None, artist=None, time='00:00:00'):\n",
    "        self.title = title\n",
    "        self.artist = artist\n",
    "        self.time = time\n",
    "        self.total_seconds = self.__set_total_seconds(time)\n",
    "\n",
    "    def __set_total_seconds(self, time):\n",
    "        if time.count(':') != 2:\n",
    "            raise ValueError(\n",
    "                \"'time' argument should only be hours:minutes:seconds.\"\n",
    "            )\n",
    "        seconds, minutes, hours = map(int, time.split(':')[::-1])\n",
    "        seconds += minutes * 60\n",
    "        seconds += hours * 3600\n",
    "        return seconds\n",
    "    \n",
    "    def __int__(self):\n",
    "        return self.total_seconds"
   ]
  },
  {
   "cell_type": "markdown",
   "metadata": {},
   "source": [
    "OK, but we can't add two songs together just yet. We have number versions of\n",
    "them but they don't know how to add yet. Let's try it, though, just to be sure."
   ]
  },
  {
   "cell_type": "code",
   "execution_count": null,
   "metadata": {
    "collapsed": false
   },
   "outputs": [],
   "source": [
    "song1 = Song(time='00:00:10')\n",
    "song2 = Song(time='00:01:00')\n",
    "print(song1+song2)"
   ]
  },
  {
   "cell_type": "markdown",
   "metadata": {},
   "source": [
    "And, yep, `TypeError`. The operands, the two songs on the side, don't know how to\n",
    "add themselves together. We can fix that with two methods.\n",
    "\n",
    "First, let's set up the `__add__` method. This method is for the item on the\n",
    "left side of the plus sign."
   ]
  },
  {
   "cell_type": "code",
   "execution_count": null,
   "metadata": {
    "collapsed": true
   },
   "outputs": [],
   "source": [
    "class Song:\n",
    "    title = None\n",
    "    artist = None\n",
    "    total_seconds = 0\n",
    "\n",
    "    def __init__(self, title=None, artist=None, time='00:00:00'):\n",
    "        self.title = title\n",
    "        self.artist = artist\n",
    "        self.time = time\n",
    "        self.total_seconds = self.__set_total_seconds(time)\n",
    "\n",
    "    def __set_total_seconds(self, time):\n",
    "        if time.count(':') != 2:\n",
    "            raise ValueError(\n",
    "                \"'time' argument should only be hours:minutes:seconds.\"\n",
    "            )\n",
    "        seconds, minutes, hours = map(int, time.split(':')[::-1])\n",
    "        seconds += minutes * 60\n",
    "        seconds += hours * 3600\n",
    "        return seconds\n",
    "    \n",
    "    def __int__(self):\n",
    "        return self.total_seconds\n",
    "\n",
    "    def __add__(self, other):\n",
    "        return self.total_seconds + other"
   ]
  },
  {
   "cell_type": "code",
   "execution_count": null,
   "metadata": {
    "collapsed": false
   },
   "outputs": [],
   "source": [
    "song1 = Song(time='00:00:10')\n",
    "song2 = Song(time='00:01:00')\n",
    "print(song1+song2)"
   ]
  },
  {
   "cell_type": "markdown",
   "metadata": {},
   "source": [
    "Well, that didn't fix it. And the problem is that the object on the *right* side\n",
    "of the plus sign doesn't know how to add itself to something on the left side.\n",
    "They both have the `__add__` method but to add yourself to something when you're\n",
    "on the right side, you actually need a new method, `__radd__`. No, the \"r\"\n",
    "doesn't stand for \"right\", it stands for \"reflected\". Python actually tries\n",
    "to swap the operands around when it fails on `__add__` and that's where we get\n",
    "\"reflected\" from."
   ]
  },
  {
   "cell_type": "code",
   "execution_count": null,
   "metadata": {
    "collapsed": true
   },
   "outputs": [],
   "source": [
    "class Song:\n",
    "    title = None\n",
    "    artist = None\n",
    "    total_seconds = 0\n",
    "\n",
    "    def __init__(self, title=None, artist=None, time='00:00:00'):\n",
    "        self.title = title\n",
    "        self.artist = artist\n",
    "        self.time = time\n",
    "        self.total_seconds = self.__set_total_seconds(time)\n",
    "\n",
    "    def __set_total_seconds(self, time):\n",
    "        if time.count(':') != 2:\n",
    "            raise ValueError(\n",
    "                \"'time' argument should only be hours:minutes:seconds.\"\n",
    "            )\n",
    "        seconds, minutes, hours = map(int, time.split(':')[::-1])\n",
    "        seconds += minutes * 60\n",
    "        seconds += hours * 3600\n",
    "        return seconds\n",
    "    \n",
    "    def __int__(self):\n",
    "        return self.total_seconds\n",
    "\n",
    "    def __add__(self, other):\n",
    "        return self.total_seconds + other\n",
    "\n",
    "    def __radd__(self, other):\n",
    "        return self.total_seconds + other"
   ]
  },
  {
   "cell_type": "markdown",
   "metadata": {},
   "source": [
    "Yes, we wrote exactly the same code. That won't *always* be the case, but it\n",
    "seems to be *most* of the time. You could totally just have `__radd__` return\n",
    "`self.__add__(self, other)` but that seems messy and easy to forget about.\n",
    "\n",
    "Anyway, if we run our check now, it passes."
   ]
  },
  {
   "cell_type": "code",
   "execution_count": null,
   "metadata": {
    "collapsed": false
   },
   "outputs": [],
   "source": [
    "song1 = Song(time='00:00:10')\n",
    "song2 = Song(time='00:01:00')\n",
    "print(song1+song2)"
   ]
  },
  {
   "cell_type": "markdown",
   "metadata": {},
   "source": [
    "Yep, there's our 70 we were expecting.\n",
    "\n",
    "If you want to be able to change the value on the left in place, like when you\n",
    "do `x += 1`, you'll want to override a method named `__iadd__`, for \"in-place\n",
    "add\". You'll also look at overriding methods like `__mul__`, `__sub__`, and\n",
    "`__div__`, for controlling multiplication, subtraction, and division. Each of\n",
    "them has an `r` equivalent, too."
   ]
  },
  {
   "cell_type": "markdown",
   "metadata": {},
   "source": [
    "### `__getitem__`\n",
    "\n",
    "So, we've made objects into strings and numbers and made them addable. What if\n",
    "we want our object to act like a list or a dictionary? Let's go back to our\n",
    "monsters. And, by the way, this is a really iffy example. I'm not sure why you'd\n",
    "ever do this this way."
   ]
  },
  {
   "cell_type": "code",
   "execution_count": null,
   "metadata": {
    "collapsed": true
   },
   "outputs": [],
   "source": [
    "class Monster:\n",
    "    def __init__(self, sound='Rarr!', left_hand=None, right_hand=None):\n",
    "        self.sound = sound\n",
    "        self.left_hand = left_hand\n",
    "        self.right_hand = right_hand\n",
    "\n",
    "    def __getitem__(self, key):\n",
    "        try:\n",
    "            return self.__dict__[key]\n",
    "        except KeyError as err:\n",
    "            raise err\n",
    "            \n",
    "\n",
    "class Troll(Monster):\n",
    "    sound = \"Well, actually...\"\n",
    "    bridge = False\n",
    "    \n",
    "    def give_up(self):\n",
    "        print(\"The troll yells 'Never!' and calls in Twitter reinforcements!\")\n",
    "\n",
    "    def attack(self):\n",
    "        print(\"The troll says something mean about you.\")\n",
    "        super().attack()"
   ]
  },
  {
   "cell_type": "markdown",
   "metadata": {},
   "source": [
    "Every time you set at attribute or method on an object, Python actually updates\n",
    "an internal dictionary on the object. Everything is stored as keys and values in\n",
    "a dictionary and you can get to that dictionary through an attribute named\n",
    "`__dict__`. So, basically, we're just making our attributes work like dictionary\n",
    "keys here. It's like having JavaScript objects in Python.\n",
    "\n",
    "Anyway, if we use it, it should work."
   ]
  },
  {
   "cell_type": "code",
   "execution_count": null,
   "metadata": {
    "collapsed": false
   },
   "outputs": [],
   "source": [
    "monster = Monster(left_hand='axe')\n",
    "print(monster['left_hand'])"
   ]
  },
  {
   "cell_type": "markdown",
   "metadata": {},
   "source": [
    "Yeah, there's our 'axe' value.\n",
    "\n",
    "You can also override `__getitem__` to work with numbers, indexes, so that your\n",
    "class behaves like a list, tuple, or string. Again, I like to give you things to\n",
    "explore on your own. You probably want to look at `__contains__`, too."
   ]
  },
  {
   "cell_type": "markdown",
   "metadata": {},
   "source": [
    "### `__iter__`\n",
    "\n",
    "If we want our custom class to be something that we can iterate over, something\n",
    "we can use in a loop, we have to define the `__iter__` method. This method has\n",
    "to return a new iterator that can iterate over all of the items in the class.\n",
    "Or, well, all of the things you *want* to iterate over. Our monsters are sad,\n",
    "they don't have a home. Let's give them a dungeon."
   ]
  },
  {
   "cell_type": "code",
   "execution_count": null,
   "metadata": {
    "collapsed": true
   },
   "outputs": [],
   "source": [
    "import random\n",
    "\n",
    "class Dungeon:\n",
    "    trouble = []\n",
    "\n",
    "    def __init__(self, monsters=None):\n",
    "        if monsters:\n",
    "            self.trouble.extend(monsters)\n",
    "\n",
    "    def __iter__(self):\n",
    "        random.shuffle(self.trouble)\n",
    "        return (m for m in self.trouble)"
   ]
  },
  {
   "cell_type": "markdown",
   "metadata": {},
   "source": [
    "So first we shuffle the list of trouble, the list of monsters, and then we\n",
    "return a generator expression of all of the monsters in there. We could return a\n",
    "list comprehension or a new list or whatever would be most appropriate. Using a\n",
    "generator here gives us a bit of niceness, though, in case we have a really\n",
    "large dungeon or our monsters get a bit hefty in memory consumption."
   ]
  },
  {
   "cell_type": "code",
   "execution_count": null,
   "metadata": {
    "collapsed": false
   },
   "outputs": [],
   "source": [
    "m1 = Monster()\n",
    "m2 = Monster(sound='Urk!')\n",
    "t1 = Troll()\n",
    "t2 = Troll(sound='Discrimination is a fairy tale!')\n",
    "\n",
    "dungeon = Dungeon(monsters=[m1, m2, t1, t2])\n",
    "print(list(dungeon))"
   ]
  },
  {
   "cell_type": "markdown",
   "metadata": {},
   "source": [
    "\n",
    "\n",
    "And there's two monsters and two trolls.\n",
    "\n",
    "If you want an extra challenge, go add an `__add__` method to the `Dungeon` class so\n",
    "that you can add monsters in later."
   ]
  },
  {
   "cell_type": "markdown",
   "metadata": {},
   "source": [
    "## Challenge: Create a shoe rack\n",
    "\n",
    "Make a new class, `ShoeRack`, that has multiple `Shoe`s and allows a user to loop through them."
   ]
  },
  {
   "cell_type": "markdown",
   "metadata": {},
   "source": [
    "### `__call__`\n",
    "\n",
    "I have one last magic method I want to talk about. We use `str()` and `list()`\n",
    "all the time in Python to make strings and lists and ints and whatever. But each\n",
    "of these is actually a class, too.\n",
    "\n",
    "Let's make a somewhat contrived example to illustrate this. Let's make a class\n",
    "that lets us quickly do addition with a base number."
   ]
  },
  {
   "cell_type": "code",
   "execution_count": null,
   "metadata": {
    "collapsed": true
   },
   "outputs": [],
   "source": [
    "class Add:\n",
    "    def __init__(self, default=0):\n",
    "        print(\"init\")\n",
    "        self.default = default\n",
    "\n",
    "    def __call__(self, extra=0):\n",
    "        print(\"call\")\n",
    "        return self.default + extra"
   ]
  },
  {
   "cell_type": "markdown",
   "metadata": {},
   "source": [
    "This is a weird one to get your head around the first time, at least for me.\n",
    "\n",
    "When we instantiate an instance of this class, we'll give it a default value, or\n",
    "0, that it'll always add to everything. Then, when we call an instance of it,\n",
    "we'll add whatever value it's called with, or 0 again, to the default value."
   ]
  },
  {
   "cell_type": "code",
   "execution_count": null,
   "metadata": {
    "collapsed": false
   },
   "outputs": [],
   "source": [
    "add5 = Add(5)\n",
    "print(add5(5))\n",
    "print(add5(12))"
   ]
  },
  {
   "cell_type": "markdown",
   "metadata": {},
   "source": [
    "So now we have an instance that we can call like it's a function and pass an\n",
    "argument to. This is a little weird, yes, but it *can* come in very handy,\n",
    "especially when you have a class that needs to be an action item."
   ]
  },
  {
   "cell_type": "markdown",
   "metadata": {},
   "source": [
    "## Wrap up\n",
    "\n",
    "You'll find yourself using some of these things more often than others. You'll\n",
    "use inheritance quite often, most likely. You'll use `__init__` all the time.\n",
    "\n",
    "Python's OO is pretty friendly. It has great docs and everything works pretty\n",
    "much like you'd expect it to. There are some things I didn't talk about, but you\n",
    "should look them up later on if you want to learn more about OO or you find some\n",
    "particularly tricky problem you need to solve. Those things are: descriptors;\n",
    "the MRO, or method resolution order; and extending Python's built-in objects.\n",
    "All three of these things are less common than the stuff we went over today,\n",
    "though, so it may be a long time before you run into any of them...or you might\n",
    "*never* run into them."
   ]
  }
 ],
 "metadata": {
  "kernelspec": {
   "display_name": "Python 3",
   "language": "python",
   "name": "python3"
  },
  "language_info": {
   "codemirror_mode": {
    "name": "ipython",
    "version": 3
   },
   "file_extension": ".py",
   "mimetype": "text/x-python",
   "name": "python",
   "nbconvert_exporter": "python",
   "pygments_lexer": "ipython3",
   "version": "3.5.0"
  }
 },
 "nbformat": 4,
 "nbformat_minor": 0
}
